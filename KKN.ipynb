{
 "cells": [
  {
   "cell_type": "markdown",
   "id": "1b146e09",
   "metadata": {},
   "source": [
    "1. Classificatin"
   ]
  },
  {
   "cell_type": "code",
   "execution_count": null,
   "id": "2cd744ab",
   "metadata": {},
   "outputs": [],
   "source": [
    "from sklearn.datasets import load_iris\n",
    "from sklearn.model_selection import train_test_split\n",
    "from sklearn.neighbors import KNeighborsClassifier\n",
    "from sklearn.metrics import accuracy_score\n",
    "import matplotlib.pyplot as plt"
   ]
  },
  {
   "cell_type": "code",
   "execution_count": null,
   "id": "827dc22e",
   "metadata": {},
   "outputs": [],
   "source": [
    "iris = load_iris()\n",
    "X, y = iris.data, iris.target\n",
    "X_train, X_test, y_train, y_test = train_test_split(X, y, test_size=0.3, random_state=42)"
   ]
  },
  {
   "cell_type": "code",
   "execution_count": null,
   "id": "0d7c2d24",
   "metadata": {},
   "outputs": [],
   "source": [
    "k_range = range(1, 21)\n",
    "accuracies = []"
   ]
  },
  {
   "cell_type": "code",
   "execution_count": null,
   "id": "9f97f3d8",
   "metadata": {},
   "outputs": [],
   "source": [
    "for k in k_range:\n",
    "  knn = KNeighborsClassifier(n_neighbors=k)\n",
    "  knn.fit(X_train, y_train)\n",
    "  y_pred = knn.predict(X_test)\n",
    "  acc = accuracy_score(y_test, y_pred)\n",
    "  accuracies.append(acc)"
   ]
  },
  {
   "cell_type": "code",
   "execution_count": null,
   "id": "e0969dae",
   "metadata": {},
   "outputs": [],
   "source": [
    "best_k = k_range[accuracies.index(max(accuracies))]\n",
    "best_acc = max(accuracies)\n",
    "print(f\"Best K: {best_k}, Accuracy: {best_acc:.4f}\")"
   ]
  },
  {
   "cell_type": "code",
   "execution_count": null,
   "id": "12cc7544",
   "metadata": {},
   "outputs": [],
   "source": [
    "plt.plot(k_range, accuracies, marker='o')\n",
    "plt.title(\"K-NN Classification Accuracy vs K\")\n",
    "plt.xlabel(\"Number of Neighbors (K)\")\n",
    "plt.ylabel(\"Accuracy\")\n",
    "plt.grid()\n",
    "\n",
    "plt.scatter(best_k, best_acc, color='red', s=100, label=f\"Best K = {best_k}\")\n",
    "plt.legend()\n",
    "plt.show()"
   ]
  },
  {
   "cell_type": "markdown",
   "id": "747e1d65",
   "metadata": {},
   "source": [
    "2. Regression "
   ]
  },
  {
   "cell_type": "code",
   "execution_count": null,
   "id": "67d056c7",
   "metadata": {},
   "outputs": [],
   "source": [
    "from sklearn.datasets import fetch_california_housing\n",
    "from sklearn.model_selection import train_test_split\n",
    "from sklearn.neighbors import KNeighborsRegressor\n",
    "from sklearn.metrics import mean_squared_error\n",
    "import matplotlib.pyplot as plt\n",
    "import numpy as np"
   ]
  },
  {
   "cell_type": "code",
   "execution_count": null,
   "id": "55019350",
   "metadata": {},
   "outputs": [],
   "source": [
    "data = fetch_california_housing()\n",
    "X, y = data.data, data.target\n",
    "# Split data\n",
    "X_train, X_test, y_train, y_test = train_test_split(X, y, test_size=0.3, random_state=42)"
   ]
  },
  {
   "cell_type": "code",
   "execution_count": null,
   "id": "9cd58379",
   "metadata": {},
   "outputs": [],
   "source": [
    "k_range = range(1, 21)\n",
    "mse_scores = []"
   ]
  },
  {
   "cell_type": "code",
   "execution_count": null,
   "id": "c6592115",
   "metadata": {},
   "outputs": [],
   "source": [
    "for k in k_range:\n",
    "  model = KNeighborsRegressor(n_neighbors=k)\n",
    "  model.fit(X_train, y_train)\n",
    "  y_pred = model.predict(X_test)\n",
    "  mse = mean_squared_error(y_test, y_pred)\n",
    "  mse_scores.append(mse)"
   ]
  },
  {
   "cell_type": "code",
   "execution_count": null,
   "id": "8d97bb96",
   "metadata": {},
   "outputs": [],
   "source": [
    "plt.plot(k_range, mse_scores, marker='o', color='red')\n",
    "plt.title('k-NN Regression MSE vs K')\n",
    "plt.xlabel('K value')\n",
    "plt.ylabel('Mean Squared Error')\n",
    "plt.grid(True)\n",
    "plt.show()"
   ]
  },
  {
   "cell_type": "code",
   "execution_count": null,
   "id": "39c59f99",
   "metadata": {},
   "outputs": [],
   "source": [
    "best_k = mse_scores.index(min(mse_scores)) + 1\n",
    "print(f\"Best K: {best_k}, Lowest MSE: {min(mse_scores):.4f}\")"
   ]
  }
 ],
 "metadata": {
  "kernelspec": {
   "display_name": "ML_env",
   "language": "python",
   "name": "python3"
  },
  "language_info": {
   "codemirror_mode": {
    "name": "ipython",
    "version": 3
   },
   "file_extension": ".py",
   "mimetype": "text/x-python",
   "name": "python",
   "nbconvert_exporter": "python",
   "pygments_lexer": "ipython3",
   "version": "3.13.5"
  }
 },
 "nbformat": 4,
 "nbformat_minor": 5
}
